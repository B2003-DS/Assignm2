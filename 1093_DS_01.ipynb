{
  "cells": [
    {
      "cell_type": "markdown",
      "metadata": {
        "id": "view-in-github",
        "colab_type": "text"
      },
      "source": [
        "<a href=\"https://colab.research.google.com/github/B2003-DS/Assignm2/blob/1093/1093_DS_01.ipynb\" target=\"_parent\"><img src=\"https://colab.research.google.com/assets/colab-badge.svg\" alt=\"Open In Colab\"/></a>"
      ]
    },
    {
      "cell_type": "markdown",
      "metadata": {
        "id": "Ux9D3bWUPE2x"
      },
      "source": [
        "# Internship on Data Science at InfraBIM\n",
        "**DS-02: Assignment - Descriptive Analysis on Interns Screening Test Performance**"
      ]
    },
    {
      "cell_type": "markdown",
      "metadata": {
        "id": "h7XhZFDrPE27"
      },
      "source": [
        "Team No.:<br>\n",
        "Reg. No.: 1093<br>\n",
        "Name: B.Swetha Shivani<br>\n",
        "Date: 21/10/22"
      ]
    },
    {
      "cell_type": "code",
      "execution_count": 2,
      "metadata": {
        "id": "3Dh21C3cJNzB"
      },
      "outputs": [],
      "source": [
        "# Import Libraries\n",
        "import pandas as pd \n",
        "import numpy as np"
      ]
    },
    {
      "cell_type": "markdown",
      "metadata": {
        "id": "6MIgCvrpbb7H"
      },
      "source": [
        "**Loading Dataset**"
      ]
    },
    {
      "cell_type": "code",
      "execution_count": 3,
      "metadata": {
        "colab": {
          "base_uri": "https://localhost:8080/"
        },
        "id": "wM2todxpPE3A",
        "outputId": "0e24058a-12a5-4d37-a050-fdda00e1da61"
      },
      "outputs": [
        {
          "output_type": "stream",
          "name": "stdout",
          "text": [
            "     EnrollmentNo  QuizId  Correct  TimeTaken\n",
            "0               1     187       15         18\n",
            "1               2     187       17         12\n",
            "2               3     187       13         11\n",
            "3               4     187       18          3\n",
            "4               5     187       17          5\n",
            "..            ...     ...      ...        ...\n",
            "236           237     189       14         12\n",
            "237           238     189       13          6\n",
            "238           239     189       13         18\n",
            "239           240     189       13          4\n",
            "240           241     189       11         12\n",
            "\n",
            "[241 rows x 4 columns]\n"
          ]
        }
      ],
      "source": [
        "# Load the CSV Data into a DataFrame\n",
        "url = \"https://internships-data.s3.ap-south-1.amazonaws.com/Assignments/Data+Science/data/ScreeningTest_18102022.csv\"\n",
        "df = pd.read_csv(url)\n",
        "print(df)"
      ]
    },
    {
      "cell_type": "markdown",
      "metadata": {
        "id": "1MBFT_7Cfrvy"
      },
      "source": [
        "**Q1. Identify Variables and their Types (Quantitative or Qualitative)**"
      ]
    },
    {
      "cell_type": "code",
      "execution_count": 4,
      "metadata": {
        "colab": {
          "base_uri": "https://localhost:8080/"
        },
        "id": "NkID4VGOPE3C",
        "outputId": "81d1fccc-19ea-4dc6-918e-823728948dd3"
      },
      "outputs": [
        {
          "output_type": "execute_result",
          "data": {
            "text/plain": [
              "EnrollmentNo    int64\n",
              "QuizId          int64\n",
              "Correct         int64\n",
              "TimeTaken       int64\n",
              "dtype: object"
            ]
          },
          "metadata": {},
          "execution_count": 4
        }
      ],
      "source": [
        "df.dtypes"
      ]
    },
    {
      "cell_type": "markdown",
      "metadata": {
        "id": "a8ZQ6yfzPE3D"
      },
      "source": [
        "**<font color='blue'>Q1. Answer </font>**\n",
        "<br>\n",
        "<b>Categorical Data:</b>nan<br>\n",
        "<b>Numerical Data:</b> EnrollmentNo,QuizId,Correct,TimeTaken"
      ]
    },
    {
      "cell_type": "markdown",
      "metadata": {
        "id": "ebxinfwGPE3D"
      },
      "source": [
        "**Q2. Size of Data (No. of Rows and Columns)**"
      ]
    },
    {
      "cell_type": "code",
      "execution_count": 5,
      "metadata": {
        "colab": {
          "base_uri": "https://localhost:8080/"
        },
        "id": "e0pKHsibPE3D",
        "outputId": "7e65b056-f36a-4729-f5ad-41569e315e64"
      },
      "outputs": [
        {
          "output_type": "execute_result",
          "data": {
            "text/plain": [
              "(241, 4)"
            ]
          },
          "metadata": {},
          "execution_count": 5
        }
      ],
      "source": [
        "df.shape"
      ]
    },
    {
      "cell_type": "markdown",
      "metadata": {
        "id": "XQw1vSaRPE3E"
      },
      "source": [
        "**<font color='blue'>Q2. Answer </font>**\n",
        "<br>\n",
        "<b>Rows:</b> 241<br>\n",
        "<b>Attributes:4</b>"
      ]
    },
    {
      "cell_type": "markdown",
      "metadata": {
        "id": "GQbmVLt9PE3E"
      },
      "source": [
        "**Q3. Create Histogram**"
      ]
    },
    {
      "cell_type": "code",
      "execution_count": 6,
      "metadata": {
        "id": "_Ue1c_9CPE3F",
        "colab": {
          "base_uri": "https://localhost:8080/",
          "height": 333
        },
        "outputId": "f7c4e35b-3fbd-4d01-e293-36363fae85a8"
      },
      "outputs": [
        {
          "output_type": "execute_result",
          "data": {
            "text/plain": [
              "array([[<matplotlib.axes._subplots.AxesSubplot object at 0x7fbc442f1550>,\n",
              "        <matplotlib.axes._subplots.AxesSubplot object at 0x7fbc3e288550>]],\n",
              "      dtype=object)"
            ]
          },
          "metadata": {},
          "execution_count": 6
        },
        {
          "output_type": "display_data",
          "data": {
            "text/plain": [
              "<Figure size 432x288 with 2 Axes>"
            ],
            "image/png": "[encoded data removed]"
          },
          "metadata": {
            "needs_background": "light"
          }
        }
      ],
      "source": [
        "# Generate Histogram - It is a graphical representation of a grouped frequency distribution with continuous classes\n",
        "df[['Correct','TimeTaken']].hist(bins=10)"
      ]
    },
    {
      "cell_type": "markdown",
      "metadata": {
        "id": "aa-ozF2DPE3F"
      },
      "source": [
        "**Q4. Create Pie-Chart to represent the Enrollments for each Internship Program**"
      ]
    },
    {
      "cell_type": "code",
      "execution_count": 7,
      "metadata": {
        "id": "a_jfiJsfPE3F",
        "colab": {
          "base_uri": "https://localhost:8080/",
          "height": 265
        },
        "outputId": "84a824df-e2d6-4d84-b169-c8778d133542"
      },
      "outputs": [
        {
          "output_type": "execute_result",
          "data": {
            "text/plain": [
              "<matplotlib.axes._subplots.AxesSubplot at 0x7fbc3e19d3d0>"
            ]
          },
          "metadata": {},
          "execution_count": 7
        },
        {
          "output_type": "display_data",
          "data": {
            "text/plain": [
              "<Figure size 432x288 with 1 Axes>"
            ],
            "image/png": "[encoded data removed]"
          },
          "metadata": {}
        }
      ],
      "source": [
        "color=['pink','purple','red']\n",
        "df.groupby(['QuizId']).sum().plot(kind='pie',y='EnrollmentNo',colors=color,autopct='%1.0f%%',startangle=30)"
      ]
    },
    {
      "cell_type": "markdown",
      "metadata": {
        "id": "GyfqhxUIPE3F"
      },
      "source": [
        "**Q5. Find No. of Enrollments for each Internship Program**"
      ]
    },
    {
      "cell_type": "code",
      "execution_count": 8,
      "metadata": {
        "id": "nGnUQg_QPE3G",
        "colab": {
          "base_uri": "https://localhost:8080/"
        },
        "outputId": "ccd8a018-9e13-4fd3-e66e-1457eed98176"
      },
      "outputs": [
        {
          "output_type": "execute_result",
          "data": {
            "text/plain": [
              "EnrollmentNo  QuizId  Correct  TimeTaken\n",
              "1             187     15       18           1\n",
              "122           187     14       8            1\n",
              "154           187     19       4            1\n",
              "155           187     19       3            1\n",
              "156           187     19       6            1\n",
              "                                           ..\n",
              "86            187     6        11           1\n",
              "87            187     19       7            1\n",
              "88            187     19       1            1\n",
              "89            187     19       2            1\n",
              "241           189     11       12           1\n",
              "Length: 241, dtype: int64"
            ]
          },
          "metadata": {},
          "execution_count": 8
        }
      ],
      "source": [
        "df.value_counts()"
      ]
    },
    {
      "cell_type": "markdown",
      "metadata": {
        "id": "m6pyGR4cPE3G"
      },
      "source": [
        "**Q6. Find Measure of Central Tendency: MEAN, MEDIAN, MODE**"
      ]
    },
    {
      "cell_type": "code",
      "execution_count": 9,
      "metadata": {
        "id": "GxaDiSabPE3G",
        "colab": {
          "base_uri": "https://localhost:8080/"
        },
        "outputId": "9567e45e-33a5-4b7e-b011-0a896d1c92e7"
      },
      "outputs": [
        {
          "output_type": "stream",
          "name": "stdout",
          "text": [
            "EnrollmentNo    121.000000\n",
            "QuizId          187.493776\n",
            "Correct          15.543568\n",
            "TimeTaken         9.730290\n",
            "dtype: float64\n"
          ]
        }
      ],
      "source": [
        "# MEAN\n",
        "print(df[['EnrollmentNo','QuizId','Correct','TimeTaken']].mean())"
      ]
    },
    {
      "cell_type": "code",
      "execution_count": 10,
      "metadata": {
        "id": "NTySj7wMPE3G",
        "colab": {
          "base_uri": "https://localhost:8080/"
        },
        "outputId": "f724c65d-ac46-494b-c30a-f9c24bdb9b0a"
      },
      "outputs": [
        {
          "output_type": "stream",
          "name": "stdout",
          "text": [
            "     EnrollmentNo  QuizId  Correct  TimeTaken\n",
            "0               1   187.0     17.0       11.0\n",
            "1               2     NaN      NaN        NaN\n",
            "2               3     NaN      NaN        NaN\n",
            "3               4     NaN      NaN        NaN\n",
            "4               5     NaN      NaN        NaN\n",
            "..            ...     ...      ...        ...\n",
            "236           237     NaN      NaN        NaN\n",
            "237           238     NaN      NaN        NaN\n",
            "238           239     NaN      NaN        NaN\n",
            "239           240     NaN      NaN        NaN\n",
            "240           241     NaN      NaN        NaN\n",
            "\n",
            "[241 rows x 4 columns]\n"
          ]
        }
      ],
      "source": [
        "# MEDIAN\n",
        "print(df[['EnrollmentNo','QuizId','Correct','TimeTaken']].mode())\n"
      ]
    },
    {
      "cell_type": "code",
      "execution_count": 11,
      "metadata": {
        "id": "MSFrycnFPE3H",
        "colab": {
          "base_uri": "https://localhost:8080/"
        },
        "outputId": "bf75c2fd-f9a0-4e88-b845-ae82168a46eb"
      },
      "outputs": [
        {
          "output_type": "stream",
          "name": "stdout",
          "text": [
            "EnrollmentNo    121.0\n",
            "QuizId          187.0\n",
            "Correct          16.0\n",
            "TimeTaken        10.0\n",
            "dtype: float64\n"
          ]
        }
      ],
      "source": [
        "# MODE\n",
        "print(df[['EnrollmentNo','QuizId','Correct','TimeTaken']].median())"
      ]
    },
    {
      "cell_type": "markdown",
      "metadata": {
        "id": "_KXcvFp2PE3H"
      },
      "source": [
        "**Q7. Find Measure of Variance: Minimum, Maximum, Range, Mean Deviation, Standard Deviation, Co-efficient of Variation**"
      ]
    },
    {
      "cell_type": "code",
      "execution_count": 12,
      "metadata": {
        "id": "eyOq5Qr2PE3H",
        "colab": {
          "base_uri": "https://localhost:8080/"
        },
        "outputId": "e3b0d37c-6f3c-443a-8910-f7038f003e1a"
      },
      "outputs": [
        {
          "output_type": "stream",
          "name": "stdout",
          "text": [
            "EnrollmentNo      1\n",
            "QuizId          187\n",
            "Correct           1\n",
            "TimeTaken         0\n",
            "dtype: int64\n"
          ]
        }
      ],
      "source": [
        "# Minimum\n",
        "print(df[['EnrollmentNo','QuizId','Correct','TimeTaken']].min())"
      ]
    },
    {
      "cell_type": "code",
      "execution_count": 13,
      "metadata": {
        "id": "CQUN7xm0PE3H",
        "colab": {
          "base_uri": "https://localhost:8080/"
        },
        "outputId": "fd296b30-e806-40bf-eb54-60357a005221"
      },
      "outputs": [
        {
          "output_type": "stream",
          "name": "stdout",
          "text": [
            "EnrollmentNo    241\n",
            "QuizId          189\n",
            "Correct          20\n",
            "TimeTaken        20\n",
            "dtype: int64\n"
          ]
        }
      ],
      "source": [
        "# Maximum\n",
        "print(df[['EnrollmentNo','QuizId','Correct','TimeTaken']].max())"
      ]
    },
    {
      "cell_type": "code",
      "execution_count": 14,
      "metadata": {
        "id": "61-XT7IpPE3H",
        "colab": {
          "base_uri": "https://localhost:8080/"
        },
        "outputId": "c8a7c9cf-babe-4d16-89c4-311490eff315"
      },
      "outputs": [
        {
          "output_type": "execute_result",
          "data": {
            "text/plain": [
              "EnrollmentNo    240\n",
              "QuizId            2\n",
              "Correct          19\n",
              "TimeTaken        20\n",
              "dtype: int64"
            ]
          },
          "metadata": {},
          "execution_count": 14
        }
      ],
      "source": [
        "# Range\n",
        "df[['EnrollmentNo','QuizId','Correct','TimeTaken']].max()-df[['EnrollmentNo','QuizId','Correct','TimeTaken']].min()"
      ]
    },
    {
      "cell_type": "code",
      "execution_count": 15,
      "metadata": {
        "id": "EFiTWLwzPE3I",
        "colab": {
          "base_uri": "https://localhost:8080/"
        },
        "outputId": "2f9a5271-e99e-40b0-d5ac-39d0d7b744a3"
      },
      "outputs": [
        {
          "output_type": "execute_result",
          "data": {
            "text/plain": [
              "EnrollmentNo    69.714896\n",
              "QuizId           0.742296\n",
              "Correct          3.273500\n",
              "TimeTaken        4.943628\n",
              "dtype: float64"
            ]
          },
          "metadata": {},
          "execution_count": 15
        }
      ],
      "source": [
        "# Standard Deviation\n",
        "df[['EnrollmentNo','QuizId','Correct','TimeTaken']].std()"
      ]
    },
    {
      "cell_type": "code",
      "execution_count": 16,
      "metadata": {
        "id": "iDur3xgoPE3I",
        "colab": {
          "base_uri": "https://localhost:8080/"
        },
        "outputId": "7eaf87f2-8557-4270-d267-0bc28a69e0d7"
      },
      "outputs": [
        {
          "output_type": "execute_result",
          "data": {
            "text/plain": [
              "EnrollmentNo    0.576156\n",
              "QuizId          0.003959\n",
              "Correct         0.210602\n",
              "TimeTaken       0.508066\n",
              "dtype: float64"
            ]
          },
          "metadata": {},
          "execution_count": 16
        }
      ],
      "source": [
        "# Co-effienct of Variation\n",
        "df[['EnrollmentNo','QuizId','Correct','TimeTaken']].std()/df[['EnrollmentNo','QuizId','Correct','TimeTaken']].mean()"
      ]
    },
    {
      "cell_type": "markdown",
      "metadata": {
        "id": "44VALdMEPE3I"
      },
      "source": [
        "**Q8. Measures of Position: Standard Scores, Inter-quartile Range for Degree, Inter and 10th**"
      ]
    },
    {
      "cell_type": "code",
      "execution_count": 17,
      "metadata": {
        "id": "BEfLPtwDPE3I",
        "colab": {
          "base_uri": "https://localhost:8080/"
        },
        "outputId": "822cc07a-8f6b-4178-9e55-6403333037a8"
      },
      "outputs": [
        {
          "output_type": "execute_result",
          "data": {
            "text/plain": [
              "EnrollmentNo     61.0\n",
              "QuizId          187.0\n",
              "Correct          14.0\n",
              "TimeTaken         6.0\n",
              "Name: 0.25, dtype: float64"
            ]
          },
          "metadata": {},
          "execution_count": 17
        }
      ],
      "source": [
        "# 1st Quartile\n",
        "Q1=df[['EnrollmentNo','QuizId','Correct','TimeTaken']].quantile(0.25)\n",
        "Q1"
      ]
    },
    {
      "cell_type": "code",
      "execution_count": 18,
      "metadata": {
        "id": "7ua6DlvuPE3I",
        "colab": {
          "base_uri": "https://localhost:8080/"
        },
        "outputId": "21ced4c1-709a-4fe0-d850-f33aeaf42bc3"
      },
      "outputs": [
        {
          "output_type": "execute_result",
          "data": {
            "text/plain": [
              "EnrollmentNo    121.0\n",
              "QuizId          187.0\n",
              "Correct          16.0\n",
              "TimeTaken        10.0\n",
              "Name: 0.5, dtype: float64"
            ]
          },
          "metadata": {},
          "execution_count": 18
        }
      ],
      "source": [
        "# 2nd Quartile or Median\n",
        "Q2=df[['EnrollmentNo','QuizId','Correct','TimeTaken']].quantile(0.5)\n",
        "Q2"
      ]
    },
    {
      "cell_type": "code",
      "execution_count": 19,
      "metadata": {
        "id": "-U96dZi2PE3J",
        "colab": {
          "base_uri": "https://localhost:8080/"
        },
        "outputId": "e23e4ebb-12c7-4ec4-9ab6-4cbd43e5cef1"
      },
      "outputs": [
        {
          "output_type": "execute_result",
          "data": {
            "text/plain": [
              "EnrollmentNo    181.0\n",
              "QuizId          188.0\n",
              "Correct          18.0\n",
              "TimeTaken        13.0\n",
              "Name: 0.75, dtype: float64"
            ]
          },
          "metadata": {},
          "execution_count": 19
        }
      ],
      "source": [
        "# 3rd Quartile\n",
        "Q3=df[['EnrollmentNo','QuizId','Correct','TimeTaken']].quantile(0.75)\n",
        "Q3"
      ]
    },
    {
      "cell_type": "code",
      "execution_count": 20,
      "metadata": {
        "id": "elOXdXcqPE3J",
        "colab": {
          "base_uri": "https://localhost:8080/"
        },
        "outputId": "3718901a-b33f-4308-b4fe-455ed90a5341"
      },
      "outputs": [
        {
          "output_type": "execute_result",
          "data": {
            "text/plain": [
              "EnrollmentNo    120.0\n",
              "QuizId            1.0\n",
              "Correct           4.0\n",
              "TimeTaken         7.0\n",
              "dtype: float64"
            ]
          },
          "metadata": {},
          "execution_count": 20
        }
      ],
      "source": [
        "# Inter-Quartile = Q3 - Q1\n",
        "IQR=Q3-Q1\n",
        "IQR"
      ]
    },
    {
      "cell_type": "markdown",
      "metadata": {
        "id": "IjDoOUMnPE3J"
      },
      "source": [
        "**Q9. Create Box Plot and Identify Outliers**"
      ]
    },
    {
      "cell_type": "code",
      "execution_count": 21,
      "metadata": {
        "id": "LwMPN618PE3J",
        "colab": {
          "base_uri": "https://localhost:8080/",
          "height": 583
        },
        "outputId": "abce293d-8104-4128-9698-901028640857"
      },
      "outputs": [
        {
          "output_type": "stream",
          "name": "stdout",
          "text": [
            "AxesSubplot(0.125,0.125;0.775x0.755)\n",
            "     QuizId  Correct  TimeTaken\n",
            "0       NaN      NaN        NaN\n",
            "1       NaN      NaN        NaN\n",
            "2       NaN      NaN        NaN\n",
            "3       NaN      NaN        NaN\n",
            "4       NaN      NaN        NaN\n",
            "..      ...      ...        ...\n",
            "236     NaN      NaN        NaN\n",
            "237     NaN      NaN        NaN\n",
            "238     NaN      NaN        NaN\n",
            "239     NaN      NaN        NaN\n",
            "240     NaN      NaN        NaN\n",
            "\n",
            "[241 rows x 3 columns]\n"
          ]
        },
        {
          "output_type": "stream",
          "name": "stderr",
          "text": [
            "/usr/local/lib/python3.7/dist-packages/ipykernel_launcher.py:4: FutureWarning: Automatic reindexing on DataFrame vs Series comparisons is deprecated and will raise ValueError in a future version.  Do `left, right = left.align(right, axis=1, copy=False)` before e.g. `left == right`\n",
            "  after removing the cwd from sys.path.\n"
          ]
        },
        {
          "output_type": "display_data",
          "data": {
            "text/plain": [
              "<Figure size 432x288 with 1 Axes>"
            ],
            "image/png": "[encoded data removed]"
          },
          "metadata": {
            "needs_background": "light"
          }
        }
      ],
      "source": [
        "print(df.boxplot(column=['QuizId','Correct','TimeTaken'],rot=0, fontsize=12))\n",
        "ul = Q3+1.5*IQR\n",
        "ll = Q1-1.5*IQR\n",
        "outliers = df[['QuizId','Correct','TimeTaken']][(df[['QuizId','Correct','TimeTaken']] > ul) | (df[['QuizId','Correct','TimeTaken']] < ll)]\n",
        "print(outliers)"
      ]
    },
    {
      "cell_type": "markdown",
      "metadata": {
        "id": "NIoD8WgUPE3J"
      },
      "source": [
        "**Q10. Identify and Listout Outliers**"
      ]
    },
    {
      "cell_type": "code",
      "execution_count": 28,
      "metadata": {
        "id": "GSD5SmgNPE3J",
        "colab": {
          "base_uri": "https://localhost:8080/"
        },
        "outputId": "6baa33d1-3544-4323-834a-e7811bbb3aec"
      },
      "outputs": [
        {
          "output_type": "stream",
          "name": "stdout",
          "text": [
            "217.0\n",
            "189.0\n",
            "19.0\n",
            "17.0\n"
          ]
        }
      ],
      "source": [
        "# 90th Percentile or Quantile\n",
        "print(np.percentile(df['EnrollmentNo'],90))\n",
        "print(np.percentile(df['QuizId'],90))\n",
        "print(np.percentile(df['Correct'],90))\n",
        "print(np.percentile(df['TimeTaken'],90))"
      ]
    },
    {
      "cell_type": "markdown",
      "metadata": {
        "id": "yaIBqJeOPE3K"
      },
      "source": [
        "**Q11. Any other Insights about Malpractice**"
      ]
    },
    {
      "cell_type": "code",
      "execution_count": 22,
      "metadata": {
        "id": "pXXMRwLiPE3K"
      },
      "outputs": [],
      "source": []
    }
  ],
  "metadata": {
    "colab": {
      "collapsed_sections": [],
      "provenance": [],
      "include_colab_link": true
    },
    "kernelspec": {
      "display_name": "conda_python3",
      "language": "python",
      "name": "conda_python3"
    },
    "language_info": {
      "codemirror_mode": {
        "name": "ipython",
        "version": 3
      },
      "file_extension": ".py",
      "mimetype": "text/x-python",
      "name": "python",
      "nbconvert_exporter": "python",
      "pygments_lexer": "ipython3",
      "version": "3.8.12"
    }
  },
  "nbformat": 4,
  "nbformat_minor": 0
}